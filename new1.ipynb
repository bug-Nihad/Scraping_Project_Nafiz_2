{
 "cells": [
  {
   "cell_type": "code",
   "execution_count": 1,
   "metadata": {},
   "outputs": [],
   "source": [
    "import pandas as pd\n",
    "import datetime"
   ]
  },
  {
   "cell_type": "code",
   "execution_count": 2,
   "metadata": {},
   "outputs": [],
   "source": [
    "df1 = pd.read_csv('CSL.AX001.csv')\n",
    "df2 = pd.read_csv('CSL.AX002.csv')"
   ]
  },
  {
   "cell_type": "markdown",
   "metadata": {},
   "source": [
    "Fill the empty Data Column with Previous Cell Value"
   ]
  },
  {
   "cell_type": "code",
   "execution_count": 3,
   "metadata": {},
   "outputs": [],
   "source": [
    "df1.Date = df1.Date.fillna(method='ffill')"
   ]
  },
  {
   "cell_type": "markdown",
   "metadata": {},
   "source": [
    "Converting into Datetime Object"
   ]
  },
  {
   "cell_type": "code",
   "execution_count": 4,
   "metadata": {},
   "outputs": [],
   "source": [
    "df1.Date = pd.to_datetime(df1.Date)\n",
    "df2.Year = pd.to_datetime(df2.Year)"
   ]
  },
  {
   "cell_type": "markdown",
   "metadata": {},
   "source": [
    "Previous Year's Number of Post"
   ]
  },
  {
   "cell_type": "code",
   "execution_count": 6,
   "metadata": {},
   "outputs": [],
   "source": [
    "date_temp = df2.Year[0]"
   ]
  },
  {
   "cell_type": "code",
   "execution_count": 7,
   "metadata": {},
   "outputs": [],
   "source": [
    "prev_year_len = df1[(((df1.Date - date_temp).astype('timedelta64[h]')/24) >= -365) & (((df1.Date - date_temp).astype('timedelta64[h]')/24) <=0)].shape[0]"
   ]
  },
  {
   "cell_type": "markdown",
   "metadata": {},
   "source": [
    "Filter DF based on 90 days interval"
   ]
  },
  {
   "cell_type": "code",
   "execution_count": 14,
   "metadata": {},
   "outputs": [],
   "source": [
    "filtered_df = df1[(abs((df1.Date - date_temp).astype('timedelta64[h]')/24) <= 90)]"
   ]
  },
  {
   "cell_type": "code",
   "execution_count": 10,
   "metadata": {},
   "outputs": [
    {
     "data": {
      "text/plain": [
       "357"
      ]
     },
     "execution_count": 10,
     "metadata": {},
     "output_type": "execute_result"
    }
   ],
   "source": [
    "date_90_len = filtered_df.shape[0]\n",
    "date_90_len"
   ]
  },
  {
   "cell_type": "markdown",
   "metadata": {},
   "source": [
    "Remove Unwanted Lines from Comments"
   ]
  },
  {
   "cell_type": "code",
   "execution_count": 15,
   "metadata": {},
   "outputs": [],
   "source": [
    "def remove_str(row):\n",
    "    x = row.Comments2\n",
    "    try:\n",
    "        x = x.replace(re.search('Originally posted .*', x)[0], '').strip()\n",
    "    except:\n",
    "        pass\n",
    "    try:\n",
    "        x = x.replace(re.search('Release Date:.*', x)[0], '').strip()\n",
    "    except:\n",
    "        pass\n",
    "    row.Comments2 = x\n",
    "    return row"
   ]
  },
  {
   "cell_type": "code",
   "execution_count": 16,
   "metadata": {},
   "outputs": [],
   "source": [
    "filtered_df = filtered_df.apply(remove_str, axis='columns')"
   ]
  },
  {
   "cell_type": "code",
   "execution_count": 17,
   "metadata": {},
   "outputs": [
    {
     "data": {
      "text/html": [
       "<div>\n",
       "<style scoped>\n",
       "    .dataframe tbody tr th:only-of-type {\n",
       "        vertical-align: middle;\n",
       "    }\n",
       "\n",
       "    .dataframe tbody tr th {\n",
       "        vertical-align: top;\n",
       "    }\n",
       "\n",
       "    .dataframe thead th {\n",
       "        text-align: right;\n",
       "    }\n",
       "</style>\n",
       "<table border=\"1\" class=\"dataframe\">\n",
       "  <thead>\n",
       "    <tr style=\"text-align: right;\">\n",
       "      <th></th>\n",
       "      <th>RIC</th>\n",
       "      <th>Title</th>\n",
       "      <th>Comments</th>\n",
       "      <th>Views</th>\n",
       "      <th>Source</th>\n",
       "      <th>Date</th>\n",
       "      <th>Author</th>\n",
       "      <th>Total Post by Author</th>\n",
       "      <th>Like</th>\n",
       "      <th>Date Posted</th>\n",
       "      <th>Time</th>\n",
       "      <th>Comments2</th>\n",
       "      <th>Sentiment</th>\n",
       "    </tr>\n",
       "  </thead>\n",
       "  <tbody>\n",
       "    <tr>\n",
       "      <th>9309</th>\n",
       "      <td>CSL</td>\n",
       "      <td>Ann: Research and Development Investor Briefing</td>\n",
       "      <td>1.0</td>\n",
       "      <td>94</td>\n",
       "      <td>ASX News</td>\n",
       "      <td>2010-07-12</td>\n",
       "      <td>ASX News</td>\n",
       "      <td>NaN</td>\n",
       "      <td>851.0</td>\n",
       "      <td>7/12/2010</td>\n",
       "      <td>8:56:00 AM</td>\n",
       "      <td>Release Date: 07/12/10 08:54\\nSummary: Researc...</td>\n",
       "      <td>None</td>\n",
       "    </tr>\n",
       "    <tr>\n",
       "      <th>9310</th>\n",
       "      <td>NaN</td>\n",
       "      <td>NaN</td>\n",
       "      <td>NaN</td>\n",
       "      <td>NaN</td>\n",
       "      <td>NaN</td>\n",
       "      <td>2010-07-12</td>\n",
       "      <td>floydf</td>\n",
       "      <td>834.0</td>\n",
       "      <td>1.0</td>\n",
       "      <td>6/12/2010</td>\n",
       "      <td>2:48:00 PM</td>\n",
       "      <td>Originally posted by regularASX ↑\\nbeen throug...</td>\n",
       "      <td>Hold</td>\n",
       "    </tr>\n",
       "    <tr>\n",
       "      <th>9311</th>\n",
       "      <td>NaN</td>\n",
       "      <td>NaN</td>\n",
       "      <td>NaN</td>\n",
       "      <td>NaN</td>\n",
       "      <td>NaN</td>\n",
       "      <td>2010-07-12</td>\n",
       "      <td>amhtet</td>\n",
       "      <td>435.0</td>\n",
       "      <td>NaN</td>\n",
       "      <td>6/12/2010</td>\n",
       "      <td>3:38:00 PM</td>\n",
       "      <td>Originally posted by floydf ↑\\nhttp://pr-usa.n...</td>\n",
       "      <td>Hold</td>\n",
       "    </tr>\n",
       "    <tr>\n",
       "      <th>9324</th>\n",
       "      <td>CSL</td>\n",
       "      <td>Ann: Daily share buy-back notice - Appendix 3E</td>\n",
       "      <td>5.0</td>\n",
       "      <td>362</td>\n",
       "      <td>ASX News</td>\n",
       "      <td>2010-08-11</td>\n",
       "      <td>ASX News</td>\n",
       "      <td>NaN</td>\n",
       "      <td>851.0</td>\n",
       "      <td>8/11/2010</td>\n",
       "      <td>8:59:00 AM</td>\n",
       "      <td>Release Date: 08/11/10 08:58\\nSummary: Daily s...</td>\n",
       "      <td>None</td>\n",
       "    </tr>\n",
       "    <tr>\n",
       "      <th>9325</th>\n",
       "      <td>NaN</td>\n",
       "      <td>NaN</td>\n",
       "      <td>NaN</td>\n",
       "      <td>NaN</td>\n",
       "      <td>NaN</td>\n",
       "      <td>2010-08-11</td>\n",
       "      <td>LuckyV</td>\n",
       "      <td>2913.0</td>\n",
       "      <td>NaN</td>\n",
       "      <td>8/11/2010</td>\n",
       "      <td>11:05:00 AM</td>\n",
       "      <td>re: Ann: Daily share buy-back notice - Append....</td>\n",
       "      <td>None</td>\n",
       "    </tr>\n",
       "    <tr>\n",
       "      <th>...</th>\n",
       "      <td>...</td>\n",
       "      <td>...</td>\n",
       "      <td>...</td>\n",
       "      <td>...</td>\n",
       "      <td>...</td>\n",
       "      <td>...</td>\n",
       "      <td>...</td>\n",
       "      <td>...</td>\n",
       "      <td>...</td>\n",
       "      <td>...</td>\n",
       "      <td>...</td>\n",
       "      <td>...</td>\n",
       "      <td>...</td>\n",
       "    </tr>\n",
       "    <tr>\n",
       "      <th>9976</th>\n",
       "      <td>NaN</td>\n",
       "      <td>NaN</td>\n",
       "      <td>NaN</td>\n",
       "      <td>NaN</td>\n",
       "      <td>NaN</td>\n",
       "      <td>2010-05-02</td>\n",
       "      <td>robbbbbbb</td>\n",
       "      <td>9860.0</td>\n",
       "      <td>2.0</td>\n",
       "      <td>5/02/2010</td>\n",
       "      <td>2:37:00 PM</td>\n",
       "      <td>Originally posted by radioactivewhale ↑\\ncheck...</td>\n",
       "      <td>Hold</td>\n",
       "    </tr>\n",
       "    <tr>\n",
       "      <th>9977</th>\n",
       "      <td>NaN</td>\n",
       "      <td>NaN</td>\n",
       "      <td>NaN</td>\n",
       "      <td>NaN</td>\n",
       "      <td>NaN</td>\n",
       "      <td>2010-05-02</td>\n",
       "      <td>regularASX</td>\n",
       "      <td>2602.0</td>\n",
       "      <td>NaN</td>\n",
       "      <td>5/02/2010</td>\n",
       "      <td>3:13:00 PM</td>\n",
       "      <td>Originally posted by robbbbbbb ↑\\nRob, this is...</td>\n",
       "      <td>LT</td>\n",
       "    </tr>\n",
       "    <tr>\n",
       "      <th>9978</th>\n",
       "      <td>CSL</td>\n",
       "      <td>igg2 may affect csl</td>\n",
       "      <td>1.0</td>\n",
       "      <td>129</td>\n",
       "      <td>regularASX</td>\n",
       "      <td>2010-04-02</td>\n",
       "      <td>regularASX</td>\n",
       "      <td>2602.0</td>\n",
       "      <td>NaN</td>\n",
       "      <td>4/02/2010</td>\n",
       "      <td>7:59:00 PM</td>\n",
       "      <td>A young doctor at a Melbourne hospital has fol...</td>\n",
       "      <td>LT</td>\n",
       "    </tr>\n",
       "    <tr>\n",
       "      <th>9979</th>\n",
       "      <td>NaN</td>\n",
       "      <td>NaN</td>\n",
       "      <td>NaN</td>\n",
       "      <td>NaN</td>\n",
       "      <td>NaN</td>\n",
       "      <td>2010-04-02</td>\n",
       "      <td>lindfield</td>\n",
       "      <td>1845.0</td>\n",
       "      <td>NaN</td>\n",
       "      <td>4/02/2010</td>\n",
       "      <td>11:50:00 AM</td>\n",
       "      <td>Originally posted by spider11 ↑\\nA picture is ...</td>\n",
       "      <td>None</td>\n",
       "    </tr>\n",
       "    <tr>\n",
       "      <th>9980</th>\n",
       "      <td>NaN</td>\n",
       "      <td>NaN</td>\n",
       "      <td>NaN</td>\n",
       "      <td>NaN</td>\n",
       "      <td>NaN</td>\n",
       "      <td>2010-04-02</td>\n",
       "      <td>regularASX</td>\n",
       "      <td>2602.0</td>\n",
       "      <td>NaN</td>\n",
       "      <td>3/02/2010</td>\n",
       "      <td>9:06:00 AM</td>\n",
       "      <td>Originally posted by regularASX ↑\\nRBS Austral...</td>\n",
       "      <td>None</td>\n",
       "    </tr>\n",
       "  </tbody>\n",
       "</table>\n",
       "<p>357 rows × 13 columns</p>\n",
       "</div>"
      ],
      "text/plain": [
       "      RIC                                           Title   Comments Views  \\\n",
       "9309  CSL  Ann: Research and Development Investor Briefing       1.0    94   \n",
       "9310  NaN                                              NaN       NaN   NaN   \n",
       "9311  NaN                                              NaN       NaN   NaN   \n",
       "9324  CSL   Ann: Daily share buy-back notice - Appendix 3E       5.0   362   \n",
       "9325  NaN                                              NaN       NaN   NaN   \n",
       "...   ...                                              ...       ...   ...   \n",
       "9976  NaN                                              NaN       NaN   NaN   \n",
       "9977  NaN                                              NaN       NaN   NaN   \n",
       "9978  CSL                              igg2 may affect csl       1.0   129   \n",
       "9979  NaN                                              NaN       NaN   NaN   \n",
       "9980  NaN                                              NaN       NaN   NaN   \n",
       "\n",
       "          Source       Date      Author  Total Post by Author   Like  \\\n",
       "9309    ASX News 2010-07-12    ASX News                   NaN  851.0   \n",
       "9310         NaN 2010-07-12      floydf                 834.0    1.0   \n",
       "9311         NaN 2010-07-12      amhtet                 435.0    NaN   \n",
       "9324    ASX News 2010-08-11    ASX News                   NaN  851.0   \n",
       "9325         NaN 2010-08-11      LuckyV                2913.0    NaN   \n",
       "...          ...        ...         ...                   ...    ...   \n",
       "9976         NaN 2010-05-02   robbbbbbb                9860.0    2.0   \n",
       "9977         NaN 2010-05-02  regularASX                2602.0    NaN   \n",
       "9978  regularASX 2010-04-02  regularASX                2602.0    NaN   \n",
       "9979         NaN 2010-04-02   lindfield                1845.0    NaN   \n",
       "9980         NaN 2010-04-02  regularASX                2602.0    NaN   \n",
       "\n",
       "     Date Posted         Time  \\\n",
       "9309   7/12/2010   8:56:00 AM   \n",
       "9310   6/12/2010   2:48:00 PM   \n",
       "9311   6/12/2010   3:38:00 PM   \n",
       "9324   8/11/2010   8:59:00 AM   \n",
       "9325   8/11/2010  11:05:00 AM   \n",
       "...          ...          ...   \n",
       "9976   5/02/2010   2:37:00 PM   \n",
       "9977   5/02/2010   3:13:00 PM   \n",
       "9978   4/02/2010   7:59:00 PM   \n",
       "9979   4/02/2010  11:50:00 AM   \n",
       "9980   3/02/2010   9:06:00 AM   \n",
       "\n",
       "                                              Comments2 Sentiment  \n",
       "9309  Release Date: 07/12/10 08:54\\nSummary: Researc...      None  \n",
       "9310  Originally posted by regularASX ↑\\nbeen throug...      Hold  \n",
       "9311  Originally posted by floydf ↑\\nhttp://pr-usa.n...      Hold  \n",
       "9324  Release Date: 08/11/10 08:58\\nSummary: Daily s...      None  \n",
       "9325  re: Ann: Daily share buy-back notice - Append....      None  \n",
       "...                                                 ...       ...  \n",
       "9976  Originally posted by radioactivewhale ↑\\ncheck...      Hold  \n",
       "9977  Originally posted by robbbbbbb ↑\\nRob, this is...        LT  \n",
       "9978  A young doctor at a Melbourne hospital has fol...        LT  \n",
       "9979  Originally posted by spider11 ↑\\nA picture is ...      None  \n",
       "9980  Originally posted by regularASX ↑\\nRBS Austral...      None  \n",
       "\n",
       "[357 rows x 13 columns]"
      ]
     },
     "execution_count": 17,
     "metadata": {},
     "output_type": "execute_result"
    }
   ],
   "source": [
    "filtered_df"
   ]
  }
 ],
 "metadata": {
  "interpreter": {
   "hash": "c733621f85e86d186818059ed56b4366a303dfbebd4d2d044fcd11d49fc260b8"
  },
  "kernelspec": {
   "display_name": "Python 3.9.0 64-bit",
   "language": "python",
   "name": "python3"
  },
  "language_info": {
   "codemirror_mode": {
    "name": "ipython",
    "version": 3
   },
   "file_extension": ".py",
   "mimetype": "text/x-python",
   "name": "python",
   "nbconvert_exporter": "python",
   "pygments_lexer": "ipython3",
   "version": "3.9.0"
  },
  "orig_nbformat": 4
 },
 "nbformat": 4,
 "nbformat_minor": 2
}
