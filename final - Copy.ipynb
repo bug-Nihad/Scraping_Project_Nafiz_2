{
 "cells": [
  {
   "cell_type": "code",
   "execution_count": null,
   "metadata": {},
   "outputs": [],
   "source": [
    "import pandas as pd\n",
    "import datetime\n",
    "import re\n",
    "import time"
   ]
  },
  {
   "cell_type": "code",
   "execution_count": null,
   "metadata": {},
   "outputs": [],
   "source": [
    "# df1 = pd.read_csv('CSL.AX001.csv')\n",
    "# df2 = pd.read_csv('CSL.AX002.csv')"
   ]
  },
  {
   "cell_type": "code",
   "execution_count": null,
   "metadata": {},
   "outputs": [],
   "source": [
    "df1 = pd.read_excel(r'New folder\\BHP.AX001.xlsx')\n",
    "df2 = pd.read_excel(r'New folder\\BHP.AX002.xlsx')"
   ]
  },
  {
   "cell_type": "markdown",
   "metadata": {},
   "source": [
    "Fill the empty Data Column with Previous Cell Value"
   ]
  },
  {
   "cell_type": "code",
   "execution_count": null,
   "metadata": {},
   "outputs": [],
   "source": [
    "df1.Date = df1.Date.fillna(method='ffill')"
   ]
  },
  {
   "cell_type": "code",
   "execution_count": null,
   "metadata": {},
   "outputs": [],
   "source": [
    "df1 = df1.fillna('')"
   ]
  },
  {
   "cell_type": "markdown",
   "metadata": {},
   "source": [
    "Converting into Datetime Object"
   ]
  },
  {
   "cell_type": "code",
   "execution_count": null,
   "metadata": {},
   "outputs": [],
   "source": [
    "# time.sleep(5)\n",
    "df1.Date = pd.to_datetime(df1.Date)"
   ]
  },
  {
   "cell_type": "code",
   "execution_count": null,
   "metadata": {},
   "outputs": [],
   "source": [
    "df2.Year = pd.to_datetime(df2.Year, format=r'%Y-%m-%d')"
   ]
  },
  {
   "cell_type": "code",
   "execution_count": null,
   "metadata": {},
   "outputs": [],
   "source": [
    "def remove_str(row):\n",
    "    x = row.Comments2\n",
    "    try:\n",
    "        x = x.replace(re.search('Originally posted .*', x)[0], '').strip()\n",
    "    except:\n",
    "        pass\n",
    "    try:\n",
    "        x = x.replace(re.search('Release Date:.*', x)[0], '').strip()\n",
    "    except:\n",
    "        pass\n",
    "    row.Comments2 = x\n",
    "    return row\n",
    "df1 = df1.apply(remove_str, axis='columns')"
   ]
  },
  {
   "cell_type": "markdown",
   "metadata": {},
   "source": [
    "Previous Year's Number of Post"
   ]
  },
  {
   "cell_type": "code",
   "execution_count": null,
   "metadata": {},
   "outputs": [],
   "source": [
    "def prev_year(date_temp):\n",
    "    return df1[(((df1.Date - date_temp).astype('timedelta64[h]')/24) >= -365) & (((df1.Date - date_temp).astype('timedelta64[h]')/24) <=0)].shape[0]"
   ]
  },
  {
   "cell_type": "markdown",
   "metadata": {},
   "source": [
    "90 days post number"
   ]
  },
  {
   "cell_type": "code",
   "execution_count": null,
   "metadata": {},
   "outputs": [],
   "source": [
    "def num_of_post(filtered_df):\n",
    "    date_90_len = filtered_df.shape[0]\n",
    "    return date_90_len"
   ]
  },
  {
   "cell_type": "markdown",
   "metadata": {},
   "source": [
    "Remove Unwanted Lines from Comments"
   ]
  },
  {
   "cell_type": "code",
   "execution_count": null,
   "metadata": {},
   "outputs": [],
   "source": [
    "# filtered_df = filtered_df.apply(remove_str, axis='columns')"
   ]
  },
  {
   "cell_type": "markdown",
   "metadata": {},
   "source": [
    "Row containing at least one negative words"
   ]
  },
  {
   "cell_type": "code",
   "execution_count": null,
   "metadata": {},
   "outputs": [],
   "source": [
    "def row_containing_neg_words(filtered_df, keyword):\n",
    "    def func_inner(row):      \n",
    "        for each_word in keyword:\n",
    "            if each_word in str(row.Comments2):\n",
    "                return 1\n",
    "        return 0\n",
    "    return sum(filtered_df.apply(func_inner, axis='columns'))"
   ]
  },
  {
   "cell_type": "markdown",
   "metadata": {},
   "source": [
    "Number of Negative Words Mentioned"
   ]
  },
  {
   "cell_type": "code",
   "execution_count": null,
   "metadata": {},
   "outputs": [],
   "source": [
    "def criticism_words(filtered_df, keyword):\n",
    "    def func2(row):\n",
    "        word_count = 0\n",
    "        for each in keyword:\n",
    "            word_count += len(re.findall(each.lower(), str(row.Comments2)))\n",
    "        return word_count\n",
    "    return sum(filtered_df.apply(func2, axis='columns'))"
   ]
  },
  {
   "cell_type": "markdown",
   "metadata": {},
   "source": [
    "Total Number of Words"
   ]
  },
  {
   "cell_type": "code",
   "execution_count": null,
   "metadata": {},
   "outputs": [],
   "source": [
    "def words_length(filtered_df):\n",
    "    def func3(row):\n",
    "        return len(str(row.Comments2).split())\n",
    "    return sum(filtered_df.apply(func3, axis='columns'))"
   ]
  },
  {
   "cell_type": "markdown",
   "metadata": {},
   "source": [
    "Output"
   ]
  },
  {
   "cell_type": "code",
   "execution_count": null,
   "metadata": {},
   "outputs": [],
   "source": [
    "df2.Year"
   ]
  },
  {
   "cell_type": "code",
   "execution_count": null,
   "metadata": {},
   "outputs": [],
   "source": [
    "def main_function(row): \n",
    "    keyword = ['am', 'is', 'are', 'was', 'were']\n",
    "    row['Total Post in a Financial Year'] = prev_year(row['Year'])\n",
    "    filtered_df = df1[(abs((df1.Date - row['Year']).astype('timedelta64[h]')/24) <= 90)]\n",
    "    # print(filtered_df.isna().any())\n",
    "    row['Total post related to earnings'] = num_of_post(filtered_df)\n",
    "    row['Criticism Comments'] = row_containing_neg_words(filtered_df, keyword)\n",
    "    row['Criticism Words'] = criticism_words(filtered_df, keyword)\n",
    "    row['Total no. of words'] = words_length(filtered_df)\n",
    "    return row\n",
    "df2 = df2.apply(main_function, axis='columns')"
   ]
  },
  {
   "cell_type": "code",
   "execution_count": null,
   "metadata": {},
   "outputs": [],
   "source": [
    "df2.to_csv('3.csv')"
   ]
  },
  {
   "cell_type": "code",
   "execution_count": null,
   "metadata": {},
   "outputs": [],
   "source": [
    "def main_function_temp(dat): \n",
    "    keyword = ['am', 'is', 'are', 'was', 'were']\n",
    "    a = prev_year(dat)\n",
    "    filtered_df = df1[(abs((df1.Date - dat).astype('timedelta64[h]')/24) <= 90)]\n",
    "    # print(filtered_df.isna().any())\n",
    "    b = num_of_post(filtered_df)\n",
    "    c = row_containing_neg_words(filtered_df, keyword)\n",
    "    d = criticism_words(filtered_df, keyword)\n",
    "    e = words_length(filtered_df)\n",
    "    return a, b, c, d, e"
   ]
  },
  {
   "cell_type": "code",
   "execution_count": null,
   "metadata": {},
   "outputs": [],
   "source": [
    "for i in range(0, df2.shape[1]):\n",
    "    print(main_function_temp(df2.Year[i]))\n",
    "    a, b, c, d, e = main_function_temp(df2.Year[i])\n",
    "    df2['Total Post in a Financial Year'][i] = a\n",
    "    df2['Total post related to earnings'] = b\n",
    "    df2['Criticism Comments'] = c\n",
    "    df2['Criticism Words'] = d\n",
    "    df2['Total no. of words'] = e"
   ]
  },
  {
   "cell_type": "code",
   "execution_count": null,
   "metadata": {},
   "outputs": [],
   "source": []
  },
  {
   "cell_type": "code",
   "execution_count": null,
   "metadata": {},
   "outputs": [],
   "source": []
  },
  {
   "cell_type": "code",
   "execution_count": null,
   "metadata": {},
   "outputs": [],
   "source": [
    "# df2.Year = pd.to_datetime(df2['Year'])"
   ]
  },
  {
   "cell_type": "code",
   "execution_count": null,
   "metadata": {},
   "outputs": [],
   "source": [
    "filtered_df = df1[(abs((df1.Date - df2['Year'][5]).astype('timedelta64[h]')/24) <= 90)]\n"
   ]
  },
  {
   "cell_type": "code",
   "execution_count": null,
   "metadata": {},
   "outputs": [],
   "source": [
    "filtered_df"
   ]
  },
  {
   "cell_type": "code",
   "execution_count": null,
   "metadata": {},
   "outputs": [],
   "source": [
    "words_length(filtered_df)"
   ]
  },
  {
   "cell_type": "code",
   "execution_count": null,
   "metadata": {},
   "outputs": [],
   "source": [
    "df2.Year"
   ]
  }
 ],
 "metadata": {
  "interpreter": {
   "hash": "c733621f85e86d186818059ed56b4366a303dfbebd4d2d044fcd11d49fc260b8"
  },
  "kernelspec": {
   "display_name": "Python 3.9.0 64-bit",
   "language": "python",
   "name": "python3"
  },
  "language_info": {
   "codemirror_mode": {
    "name": "ipython",
    "version": 3
   },
   "file_extension": ".py",
   "mimetype": "text/x-python",
   "name": "python",
   "nbconvert_exporter": "python",
   "pygments_lexer": "ipython3",
   "version": "3.9.0"
  },
  "orig_nbformat": 4
 },
 "nbformat": 4,
 "nbformat_minor": 2
}
