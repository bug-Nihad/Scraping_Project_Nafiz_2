{
 "cells": [
  {
   "cell_type": "code",
   "execution_count": 55,
   "metadata": {},
   "outputs": [],
   "source": [
    "import re\n",
    "import pandas as pd\n",
    "import numpy as np"
   ]
  },
  {
   "cell_type": "code",
   "execution_count": 13,
   "metadata": {},
   "outputs": [],
   "source": [
    "x = 'Hello Hunny Bunny \\n I am Punny'"
   ]
  },
  {
   "cell_type": "code",
   "execution_count": 14,
   "metadata": {},
   "outputs": [
    {
     "name": "stdout",
     "output_type": "stream",
     "text": [
      "Hello Hunny Bunny \n",
      " I am Punny\n"
     ]
    }
   ],
   "source": [
    "print(x)"
   ]
  },
  {
   "cell_type": "code",
   "execution_count": 63,
   "metadata": {},
   "outputs": [],
   "source": [
    "df1 = pd.read_csv('CSL.AX001.csv')"
   ]
  },
  {
   "cell_type": "code",
   "execution_count": 31,
   "metadata": {},
   "outputs": [],
   "source": [
    "x = df1.Comments2[8]"
   ]
  },
  {
   "cell_type": "code",
   "execution_count": 32,
   "metadata": {},
   "outputs": [
    {
     "data": {
      "text/plain": [
       "'Originally posted by Old Engineer\\n\\n\\nI know the announcements are available there, but so frustrating that hotcopper provides realtime email alerts and after clicking link, you are forced to wait 7mins or login into trading platform ...\\nhotcopper should just delay their alerts until the announcement is actually readable on their website ...\\nthat would be a simple fix.'"
      ]
     },
     "execution_count": 32,
     "metadata": {},
     "output_type": "execute_result"
    }
   ],
   "source": [
    "x"
   ]
  },
  {
   "cell_type": "code",
   "execution_count": 35,
   "metadata": {},
   "outputs": [
    {
     "data": {
      "text/plain": [
       "'I know the announcements are available there, but so frustrating that hotcopper provides realtime email alerts and after clicking link, you are forced to wait 7mins or login into trading platform ...\\nhotcopper should just delay their alerts until the announcement is actually readable on their website ...\\nthat would be a simple fix.'"
      ]
     },
     "execution_count": 35,
     "metadata": {},
     "output_type": "execute_result"
    }
   ],
   "source": [
    "x.replace(re.search('^Originally posted .*', x)[0], '').strip()"
   ]
  },
  {
   "cell_type": "code",
   "execution_count": 60,
   "metadata": {},
   "outputs": [],
   "source": [
    "df1.NewComments = np.NAN"
   ]
  },
  {
   "cell_type": "code",
   "execution_count": 80,
   "metadata": {},
   "outputs": [],
   "source": [
    "def remove_str(row):\n",
    "    x = row.Comments2\n",
    "    try:\n",
    "        x = x.replace(re.search('Originally posted .*', x)[0], '').strip()\n",
    "    except:\n",
    "        pass\n",
    "    try:\n",
    "        x = x.replace(re.search('Release Date:.*', x)[0], '').strip()\n",
    "    except:\n",
    "        pass\n",
    "    row.Comments2 = x\n",
    "    return row"
   ]
  },
  {
   "cell_type": "code",
   "execution_count": 81,
   "metadata": {},
   "outputs": [
    {
     "data": {
      "text/plain": [
       "0        Summary: Application for quotation of securiti...\n",
       "1        I have been seeing a bit of chatter around abo...\n",
       "2        Summary: Application for quotation of securiti...\n",
       "3        Sept 13 (Reuters) - CSL Ltd (CSL) :\\nCONFIRMS ...\n",
       "4        Summary: Notification regarding unquoted secur...\n",
       "                               ...                        \n",
       "12838    with the $AUD still aorund mid $0.60's, their ...\n",
       "12839    up, down, up, down, up, down, up, down,\\n\\nJus...\n",
       "12840    Not her day today with resources surging.\\nShe...\n",
       "12841          it is falling with thin volume??disclaimer!\n",
       "12842    again hindsight with 33.79, 33.53 are the resi...\n",
       "Name: Comments2, Length: 12843, dtype: object"
      ]
     },
     "execution_count": 81,
     "metadata": {},
     "output_type": "execute_result"
    }
   ],
   "source": [
    "df1.apply(remove_str, axis='columns').Comments2"
   ]
  },
  {
   "cell_type": "code",
   "execution_count": 69,
   "metadata": {},
   "outputs": [
    {
     "data": {
      "text/plain": [
       "'Originally posted by Old Engineer'"
      ]
     },
     "execution_count": 69,
     "metadata": {},
     "output_type": "execute_result"
    }
   ],
   "source": [
    "re.search('^Originally posted .*', x)[0]"
   ]
  },
  {
   "cell_type": "code",
   "execution_count": 82,
   "metadata": {},
   "outputs": [],
   "source": [
    "df2 = df1.apply(remove_str, axis='columns')"
   ]
  },
  {
   "cell_type": "code",
   "execution_count": 54,
   "metadata": {},
   "outputs": [
    {
     "data": {
      "text/plain": [
       "Index(['RIC', 'Title ', 'Comments', 'Views', 'Source', 'Date', 'Author',\n",
       "       'Total Post by Author', 'Like', 'Date Posted', 'Time', 'Comments2',\n",
       "       'Sentiment'],\n",
       "      dtype='object')"
      ]
     },
     "execution_count": 54,
     "metadata": {},
     "output_type": "execute_result"
    }
   ],
   "source": [
    "df2.columns"
   ]
  },
  {
   "cell_type": "code",
   "execution_count": 85,
   "metadata": {},
   "outputs": [],
   "source": [
    "df2.to_csv('2.csv')"
   ]
  }
 ],
 "metadata": {
  "interpreter": {
   "hash": "c733621f85e86d186818059ed56b4366a303dfbebd4d2d044fcd11d49fc260b8"
  },
  "kernelspec": {
   "display_name": "Python 3.9.0 64-bit",
   "language": "python",
   "name": "python3"
  },
  "language_info": {
   "codemirror_mode": {
    "name": "ipython",
    "version": 3
   },
   "file_extension": ".py",
   "mimetype": "text/x-python",
   "name": "python",
   "nbconvert_exporter": "python",
   "pygments_lexer": "ipython3",
   "version": "3.9.0"
  },
  "orig_nbformat": 4
 },
 "nbformat": 4,
 "nbformat_minor": 2
}
