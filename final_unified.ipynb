{
 "cells": [
  {
   "cell_type": "code",
   "execution_count": 16,
   "metadata": {},
   "outputs": [],
   "source": [
    "import pandas as pd\n",
    "import datetime\n",
    "import re\n",
    "import time"
   ]
  },
  {
   "cell_type": "code",
   "execution_count": 17,
   "metadata": {},
   "outputs": [],
   "source": [
    "def remove_str(row):\n",
    "    x = row.Comments2\n",
    "    try:\n",
    "        x = x.replace(re.search('Originally posted .*', x)[0], '').strip()\n",
    "    except:\n",
    "        pass\n",
    "    try:\n",
    "        x = x.replace(re.search('Release Date:.*', x)[0], '').strip()\n",
    "    except:\n",
    "        pass\n",
    "    row.Comments2 = x\n",
    "    return row"
   ]
  },
  {
   "cell_type": "markdown",
   "metadata": {},
   "source": [
    "Previous Year's Number of Post"
   ]
  },
  {
   "cell_type": "code",
   "execution_count": 18,
   "metadata": {},
   "outputs": [],
   "source": [
    "def prev_year(date_temp):\n",
    "    return df1[(((df1.Date - date_temp).astype('timedelta64[h]')/24) >= -365) & (((df1.Date - date_temp).astype('timedelta64[h]')/24) <=0)].shape[0]"
   ]
  },
  {
   "cell_type": "markdown",
   "metadata": {},
   "source": [
    "90 days post number"
   ]
  },
  {
   "cell_type": "code",
   "execution_count": 19,
   "metadata": {},
   "outputs": [],
   "source": [
    "def num_of_post(filtered_df):\n",
    "    date_90_len = filtered_df.shape[0]\n",
    "    return date_90_len"
   ]
  },
  {
   "cell_type": "markdown",
   "metadata": {},
   "source": [
    "Remove Unwanted Lines from Comments"
   ]
  },
  {
   "cell_type": "code",
   "execution_count": 20,
   "metadata": {},
   "outputs": [],
   "source": [
    "# filtered_df = filtered_df.apply(remove_str, axis='columns')"
   ]
  },
  {
   "cell_type": "markdown",
   "metadata": {},
   "source": [
    "Row containing at least one negative words"
   ]
  },
  {
   "cell_type": "code",
   "execution_count": 21,
   "metadata": {},
   "outputs": [],
   "source": [
    "def row_containing_neg_words(filtered_df, keyword):\n",
    "    def func_inner(row):      \n",
    "        for each_word in keyword:\n",
    "            if each_word in str(row.Comments2):\n",
    "                return 1\n",
    "        return 0\n",
    "    return sum(filtered_df.apply(func_inner, axis='columns'))"
   ]
  },
  {
   "cell_type": "markdown",
   "metadata": {},
   "source": [
    "Number of Negative Words Mentioned"
   ]
  },
  {
   "cell_type": "code",
   "execution_count": 22,
   "metadata": {},
   "outputs": [],
   "source": [
    "def criticism_words(filtered_df, keyword):\n",
    "    def func2(row):\n",
    "        word_count = 0\n",
    "        for each in keyword:\n",
    "            word_count += len(re.findall(each.lower(), str(row.Comments2)))\n",
    "        return word_count\n",
    "    return sum(filtered_df.apply(func2, axis='columns'))"
   ]
  },
  {
   "cell_type": "markdown",
   "metadata": {},
   "source": [
    "Total Number of Words"
   ]
  },
  {
   "cell_type": "code",
   "execution_count": 23,
   "metadata": {},
   "outputs": [],
   "source": [
    "def words_length(filtered_df):\n",
    "    def func3(row):\n",
    "        return len(str(row.Comments2).split())\n",
    "    return sum(filtered_df.apply(func3, axis='columns'))"
   ]
  },
  {
   "cell_type": "markdown",
   "metadata": {},
   "source": [
    "Function that manage program flow"
   ]
  },
  {
   "cell_type": "code",
   "execution_count": 24,
   "metadata": {},
   "outputs": [],
   "source": [
    "def process_function(row): \n",
    "    keyword = ['am', 'is', 'are', 'was', 'were']\n",
    "    row['Total Post in a Financial Year'] = prev_year(row['Year'])\n",
    "    filtered_df = df1[(abs((df1.Date - row['Year']).astype('timedelta64[h]')/24) <= 90)]\n",
    "    # print(filtered_df.isna().any())\n",
    "    row['Total post related to earnings'] = num_of_post(filtered_df)\n",
    "    row['Criticism Comments'] = row_containing_neg_words(filtered_df, keyword)\n",
    "    row['Criticism Words'] = criticism_words(filtered_df, keyword)\n",
    "    row['Total no. of words'] = words_length(filtered_df)\n",
    "    return row\n"
   ]
  },
  {
   "cell_type": "markdown",
   "metadata": {},
   "source": [
    "Main Loop"
   ]
  },
  {
   "cell_type": "code",
   "execution_count": 25,
   "metadata": {},
   "outputs": [],
   "source": [
    "import os\n",
    "try:\n",
    "    os.chdir('New folder')\n",
    "except:\n",
    "    pass\n",
    "files = [i for i in os.listdir() if '.xlsx' in i]\n",
    "for i in range(0, len(files), 2):\n",
    "    # Read Excel File\n",
    "    df1 = pd.read_excel(files[i])\n",
    "    df2 = pd.read_excel(files[i+1])\n",
    "    # Fill Empty Cell\n",
    "    df1.Date = df1.Date.fillna(method='ffill')\n",
    "    df1 = df1.fillna('')\n",
    "    #Convert to Datetime\n",
    "    df1.Date = pd.to_datetime(df1.Date)\n",
    "    df2.Year = pd.to_datetime(df2.Year, format=r'%Y-%m-%d')\n",
    "    df2 = df2.apply(process_function, axis='columns')\n",
    "    df2.to_csv(str(i) + '.csv', index=False)"
   ]
  }
 ],
 "metadata": {
  "interpreter": {
   "hash": "c733621f85e86d186818059ed56b4366a303dfbebd4d2d044fcd11d49fc260b8"
  },
  "kernelspec": {
   "display_name": "Python 3.9.0 64-bit",
   "language": "python",
   "name": "python3"
  },
  "language_info": {
   "codemirror_mode": {
    "name": "ipython",
    "version": 3
   },
   "file_extension": ".py",
   "mimetype": "text/x-python",
   "name": "python",
   "nbconvert_exporter": "python",
   "pygments_lexer": "ipython3",
   "version": "3.9.0"
  },
  "orig_nbformat": 4
 },
 "nbformat": 4,
 "nbformat_minor": 2
}
