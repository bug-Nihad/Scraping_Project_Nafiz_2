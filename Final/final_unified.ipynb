{
 "cells": [
  {
   "cell_type": "code",
   "execution_count": 25,
   "metadata": {},
   "outputs": [],
   "source": [
    "import pandas as pd\n",
    "import datetime\n",
    "import re\n",
    "import time"
   ]
  },
  {
   "cell_type": "code",
   "execution_count": 26,
   "metadata": {},
   "outputs": [],
   "source": [
    "def remove_str(row):\n",
    "    x = row.Comments2\n",
    "    try:\n",
    "        x = x.replace(re.search('Originally posted .*', x)[0], '').strip()\n",
    "    except:\n",
    "        pass\n",
    "    try:\n",
    "        x = x.replace(re.search('Release Date:.*', x)[0], '').strip()\n",
    "    except:\n",
    "        pass\n",
    "    row.Comments2 = x\n",
    "    return row"
   ]
  },
  {
   "cell_type": "markdown",
   "metadata": {},
   "source": [
    "Previous Year's Number of Post"
   ]
  },
  {
   "cell_type": "code",
   "execution_count": 27,
   "metadata": {},
   "outputs": [],
   "source": [
    "def prev_year(date_temp):\n",
    "    return df1[(((df1['Date Posted'] - date_temp).astype('timedelta64[h]')/24) >= -365) & (((df1['Date Posted'] - date_temp).astype('timedelta64[h]')/24) <=0)].shape[0]"
   ]
  },
  {
   "cell_type": "markdown",
   "metadata": {},
   "source": [
    "Total Post Related to Earnings"
   ]
  },
  {
   "cell_type": "code",
   "execution_count": 28,
   "metadata": {},
   "outputs": [],
   "source": [
    "def earning_post(filtered_df, keyword):\n",
    "    if filtered_df.shape[0] == 0:\n",
    "        return 0\n",
    "    def func_inner(row):      \n",
    "        for each_word in keyword:\n",
    "            if each_word.lower() in str(row.Comments2).lower():\n",
    "                return 1\n",
    "        return 0\n",
    "    return sum(filtered_df.apply(func_inner, axis='columns'))"
   ]
  },
  {
   "cell_type": "markdown",
   "metadata": {},
   "source": [
    "Remove Unwanted Lines from Comments"
   ]
  },
  {
   "cell_type": "code",
   "execution_count": 29,
   "metadata": {},
   "outputs": [],
   "source": [
    "# filtered_df = filtered_df.apply(remove_str, axis='columns')"
   ]
  },
  {
   "cell_type": "markdown",
   "metadata": {},
   "source": [
    "Row containing at least one negative words"
   ]
  },
  {
   "cell_type": "code",
   "execution_count": 30,
   "metadata": {},
   "outputs": [],
   "source": [
    "def row_containing_neg_words(filtered_df, keyword):\n",
    "    if filtered_df.shape[0] == 0:\n",
    "        return 0\n",
    "    def func_inner(row):      \n",
    "        for each_word in keyword:\n",
    "            if each_word in str(row.Comments2):\n",
    "                return 1\n",
    "        return 0\n",
    "    return sum(filtered_df.apply(func_inner, axis='columns'))"
   ]
  },
  {
   "cell_type": "markdown",
   "metadata": {},
   "source": [
    "Number of Positive Words Mentioned"
   ]
  },
  {
   "cell_type": "code",
   "execution_count": 31,
   "metadata": {},
   "outputs": [],
   "source": [
    "def positive_words(filtered_df, keyword):\n",
    "    if filtered_df.shape[0] == 0:\n",
    "        return 0\n",
    "    if filtered_df.shape[0] == 0:\n",
    "        return 0\n",
    "    def func2(row):\n",
    "        word_count = 0\n",
    "        for each in keyword:\n",
    "            word_count += len(re.findall(each, str(row.Comments2)))\n",
    "        return word_count\n",
    "    return sum(filtered_df.apply(func2, axis='columns'))"
   ]
  },
  {
   "cell_type": "markdown",
   "metadata": {},
   "source": [
    "Number of Negative Words Mentioned"
   ]
  },
  {
   "cell_type": "code",
   "execution_count": 32,
   "metadata": {},
   "outputs": [],
   "source": [
    "def criticism_words(filtered_df, keyword):\n",
    "    if filtered_df.shape[0] == 0:\n",
    "        return 0\n",
    "    def func2(row):\n",
    "        word_count = 0\n",
    "        for each in keyword:\n",
    "            word_count += len(re.findall(each.lower(), str(row.Comments2)))\n",
    "        return word_count\n",
    "    return sum(filtered_df.apply(func2, axis='columns'))"
   ]
  },
  {
   "cell_type": "markdown",
   "metadata": {},
   "source": [
    "Total Number of Words"
   ]
  },
  {
   "cell_type": "code",
   "execution_count": 33,
   "metadata": {},
   "outputs": [],
   "source": [
    "def words_length(filtered_df):\n",
    "    if filtered_df.shape[0] == 0:\n",
    "        return 0\n",
    "    def func3(row):\n",
    "        return len(str(row.Comments2).split())\n",
    "    return sum(filtered_df.apply(func3, axis='columns'))"
   ]
  },
  {
   "cell_type": "markdown",
   "metadata": {},
   "source": [
    "Sentiment"
   ]
  },
  {
   "cell_type": "code",
   "execution_count": 34,
   "metadata": {},
   "outputs": [],
   "source": [
    "def sentiment(df):\n",
    "    df['Sentiment'] = df['Sentiment'].fillna('None')\n",
    "    df.Sentiment = df.Sentiment.replace('', 'None')\n",
    "    try:\n",
    "        buy  = df.Sentiment.value_counts()['Buy']\n",
    "    except:\n",
    "        buy = 0\n",
    "    try:\n",
    "        hold = df.Sentiment.value_counts()['Hold']\n",
    "    except:\n",
    "        hold = 0\n",
    "    try:\n",
    "        sell = df.Sentiment.value_counts()['Sell']\n",
    "    except:\n",
    "        sell = 0\n",
    "    total = df.shape[0]\n",
    "    try:\n",
    "        sent = (buy+hold-sell)/total\n",
    "    except:\n",
    "        sent = 0\n",
    "         # total is zero\n",
    "    return sent\n",
    "\n"
   ]
  },
  {
   "cell_type": "markdown",
   "metadata": {},
   "source": [
    "Function that manage program flow"
   ]
  },
  {
   "cell_type": "code",
   "execution_count": 35,
   "metadata": {},
   "outputs": [],
   "source": [
    "def process_function(row): \n",
    "    pos_keyword = ['am', 'is', 'are', 'was', 'were']\n",
    "    neg_keyword = ['am', 'is', 'are', 'was', 'were']\n",
    "    earning = ['hi', 'hello']\n",
    "    \n",
    "    # Filtering Data Frame before 365 days\n",
    "    filtered_df = df1[(((df1['Date Posted'] - row['Year']).astype('timedelta64[h]')/24) >= -365) & (((df1['Date Posted'] - row['Year']).astype('timedelta64[h]')/24) <=0)]\n",
    "    row['Total Post in a Financial Year'] = filtered_df.shape[0]\n",
    "    row['Total post related to earnings'] = earning_post(filtered_df, earning)\n",
    "    \n",
    "    # Filtering Data that day, 1 day before and after\n",
    "    filtered_df_3_days = df1[(abs((df1['Date Posted'] - row['Year']).astype('timedelta64[h]')/24) <= 1)]\n",
    "    \n",
    "    # Filtering data between 90 to 21 days\n",
    "    filtered_df_90_21 = df1[(((df1['Date Posted'] - row['Year']).astype('timedelta64[h]')/24) >= -90) & (((df1['Date Posted'] - row['Year']).astype('timedelta64[h]')/24) <= -21)]\n",
    "    row['Abnormal Discussions'] = filtered_df_3_days.shape[0]/filtered_df_90_21.shape[0]\n",
    "    row['Total number of positive words'] = positive_words(filtered_df_3_days, pos_keyword)\n",
    "    row['Criticism Comments'] = row_containing_neg_words(filtered_df_3_days, neg_keyword)\n",
    "    row['Total number of negative words'] = criticism_words(filtered_df_3_days, neg_keyword)\n",
    "    row['Total no. of words'] = words_length(filtered_df_3_days)\n",
    "    row['Sentiment'] = sentiment(filtered_df_3_days)\n",
    "    return row\n"
   ]
  },
  {
   "cell_type": "markdown",
   "metadata": {},
   "source": [
    "Main Loop"
   ]
  },
  {
   "cell_type": "code",
   "execution_count": 36,
   "metadata": {},
   "outputs": [],
   "source": [
    "import os\n",
    "try:\n",
    "    os.chdir(r'..\\New folder')\n",
    "except:\n",
    "    pass\n",
    "files = [i for i in os.listdir() if '.xlsx' in i]\n",
    "for i in range(0, len(files), 2):\n",
    "    # Read Excel File\n",
    "    df1 = pd.read_excel(files[i])\n",
    "    df2 = pd.read_excel(files[i+1])\n",
    "    # Fill Empty Cell\n",
    "    df1['Date Posted'] = df1['Date Posted'].fillna(method='ffill')\n",
    "    df1 = df1.fillna('')\n",
    "    #Convert to Datetime\n",
    "    df1['Date Posted'] = pd.to_datetime(df1['Date Posted'])\n",
    "    df2.Year = pd.to_datetime(df2.Year, format=r'%Y-%m-%d')\n",
    "    df2 = df2.apply(process_function, axis='columns')\n",
    "    df2.to_csv(str(i) + '.csv', index=False)"
   ]
  }
 ],
 "metadata": {
  "interpreter": {
   "hash": "c733621f85e86d186818059ed56b4366a303dfbebd4d2d044fcd11d49fc260b8"
  },
  "kernelspec": {
   "display_name": "Python 3.9.0 64-bit",
   "language": "python",
   "name": "python3"
  },
  "language_info": {
   "codemirror_mode": {
    "name": "ipython",
    "version": 3
   },
   "file_extension": ".py",
   "mimetype": "text/x-python",
   "name": "python",
   "nbconvert_exporter": "python",
   "pygments_lexer": "ipython3",
   "version": "3.9.0"
  },
  "orig_nbformat": 4
 },
 "nbformat": 4,
 "nbformat_minor": 2
}
